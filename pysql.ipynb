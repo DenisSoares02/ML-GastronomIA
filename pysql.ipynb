{
 "cells": [
  {
   "cell_type": "code",
   "execution_count": 13,
   "metadata": {},
   "outputs": [],
   "source": [
    "import pyodbc\n",
    "import numpy as np\n",
    "import pandas as pd\n",
    "\n",
    "def selectData():\n",
    "    conn = pyodbc.connect('Driver={SQL Server};'\n",
    "    'Server=aps-sad.database.windows.net;'\n",
    "    'Database=Homolog;'\n",
    "    'UID=sad;'\n",
    "    'PWD=#Aps2023')\n",
    "\n",
    "    sql = 'SELECT SUM(Valor) as ValorTotalDia FROM Vendas GROUP BY Data_Venda ORDER BY Data_Venda;'\n",
    "    data = pd.read_sql(sql, conn)\n",
    "    nova_entrada = data.to_numpy()[-60:]\n",
    "    \n",
    "    conn.close() \n",
    "    return nova_entrada\n",
    "\n",
    "\n"
   ]
  },
  {
   "cell_type": "code",
   "execution_count": 12,
   "metadata": {},
   "outputs": [
    {
     "name": "stderr",
     "output_type": "stream",
     "text": [
      "C:\\Users\\denis\\AppData\\Local\\Temp\\ipykernel_16604\\3910727963.py:13: UserWarning: pandas only supports SQLAlchemy connectable (engine/connection) or database string URI or sqlite3 DBAPI2 connection. Other DBAPI2 objects are not tested. Please consider using SQLAlchemy.\n",
      "  data = pd.read_sql(sql, conn)\n"
     ]
    },
    {
     "data": {
      "text/plain": [
       "numpy.float64"
      ]
     },
     "execution_count": 12,
     "metadata": {},
     "output_type": "execute_result"
    }
   ],
   "source": [
    "type(selectData()[0][0])"
   ]
  }
 ],
 "metadata": {
  "kernelspec": {
   "display_name": "base",
   "language": "python",
   "name": "python3"
  },
  "language_info": {
   "codemirror_mode": {
    "name": "ipython",
    "version": 3
   },
   "file_extension": ".py",
   "mimetype": "text/x-python",
   "name": "python",
   "nbconvert_exporter": "python",
   "pygments_lexer": "ipython3",
   "version": "3.11.5"
  }
 },
 "nbformat": 4,
 "nbformat_minor": 2
}
